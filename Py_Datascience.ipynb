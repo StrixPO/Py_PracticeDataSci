{
 "cells": [
  {
   "cell_type": "markdown",
   "id": "3cd5732b-e5d4-42b9-9c21-4523e55808c8",
   "metadata": {},
   "source": [
    "# Numpy"
   ]
  },
  {
   "cell_type": "code",
   "execution_count": 2,
   "id": "45cbf18b-b769-4445-8ea9-d151573442c5",
   "metadata": {},
   "outputs": [
    {
     "name": "stdout",
     "output_type": "stream",
     "text": [
      "Requirement already satisfied: numpy in d:\\study_app\\anaconda\\lib\\site-packages (1.26.4)\n"
     ]
    }
   ],
   "source": [
    "!pip install numpy"
   ]
  },
  {
   "cell_type": "code",
   "execution_count": 3,
   "id": "0931fedc-8607-4784-850d-15c84a9dd9b7",
   "metadata": {},
   "outputs": [],
   "source": [
    "import numpy"
   ]
  },
  {
   "cell_type": "code",
   "execution_count": 4,
   "id": "624b4afd-47b8-4bb4-9d40-71fac09c4d23",
   "metadata": {},
   "outputs": [
    {
     "data": {
      "text/plain": [
       "'1.26.4'"
      ]
     },
     "execution_count": 4,
     "metadata": {},
     "output_type": "execute_result"
    }
   ],
   "source": [
    "numpy.__version__"
   ]
  },
  {
   "cell_type": "code",
   "execution_count": 5,
   "id": "f1bec5ec-6dd9-4892-a74a-cc18369862e9",
   "metadata": {},
   "outputs": [
    {
     "data": {
      "text/plain": [
       "'1.26.4'"
      ]
     },
     "execution_count": 5,
     "metadata": {},
     "output_type": "execute_result"
    }
   ],
   "source": [
    "# as to import as an alias\n",
    "import numpy as np\n",
    "np.__version__"
   ]
  },
  {
   "cell_type": "code",
   "execution_count": 6,
   "id": "52b6eee0-82c5-4ec1-bb17-cb8e7a25773f",
   "metadata": {},
   "outputs": [
    {
     "name": "stdout",
     "output_type": "stream",
     "text": [
      "[ 2  4  8 16]\n",
      "<class 'numpy.ndarray'>\n"
     ]
    }
   ],
   "source": [
    "my_arr = np.array([2,4,8,16])\n",
    "print(my_arr)\n",
    "print(type(my_arr))\n",
    "#ndarray is n dimension array"
   ]
  },
  {
   "cell_type": "code",
   "execution_count": 7,
   "id": "ae2df13f-7185-473c-a5ad-a9ee5b77ee30",
   "metadata": {},
   "outputs": [
    {
     "data": {
      "text/plain": [
       "array([1.  , 2.24, 2.  , 5.  , 3.  ])"
      ]
     },
     "execution_count": 7,
     "metadata": {},
     "output_type": "execute_result"
    }
   ],
   "source": [
    "np.array([1,2.24,2,5,3])"
   ]
  },
  {
   "cell_type": "code",
   "execution_count": 8,
   "id": "94ac8bbb-a1d7-48ee-85c1-004280d08013",
   "metadata": {},
   "outputs": [
    {
     "data": {
      "text/plain": [
       "array(['3', '2.45', '5', 'myint'], dtype='<U32')"
      ]
     },
     "execution_count": 8,
     "metadata": {},
     "output_type": "execute_result"
    }
   ],
   "source": [
    "np.array([3,2.45,5,'myint'])"
   ]
  },
  {
   "cell_type": "code",
   "execution_count": 9,
   "id": "7d34eeb3-782b-41ba-a52b-68c8e7200550",
   "metadata": {},
   "outputs": [
    {
     "data": {
      "text/plain": [
       "array([1, 2, 2, 5, 3], dtype=int16)"
      ]
     },
     "execution_count": 9,
     "metadata": {},
     "output_type": "execute_result"
    }
   ],
   "source": [
    "np.array([1,2.24,2,5,3], dtype='int16')"
   ]
  },
  {
   "cell_type": "code",
   "execution_count": 10,
   "id": "d27d2d4a-ab08-4358-8358-783abaa189b5",
   "metadata": {},
   "outputs": [
    {
     "data": {
      "text/plain": [
       "array([[1, 2, 3],\n",
       "       [4, 5, 6],\n",
       "       [7, 8, 9]])"
      ]
     },
     "execution_count": 10,
     "metadata": {},
     "output_type": "execute_result"
    }
   ],
   "source": [
    "np.array([\n",
    "    [1,2,3],\n",
    "    [4,5,6],\n",
    "    [7,8,9]\n",
    "])"
   ]
  },
  {
   "cell_type": "code",
   "execution_count": 11,
   "id": "55ccc475-ef1d-49d3-a65a-e119437b0934",
   "metadata": {},
   "outputs": [
    {
     "data": {
      "text/plain": [
       "array([0., 0., 0., 0., 0.])"
      ]
     },
     "execution_count": 11,
     "metadata": {},
     "output_type": "execute_result"
    }
   ],
   "source": [
    "# create matrix with zero\n",
    "np.zeros(5)"
   ]
  },
  {
   "cell_type": "code",
   "execution_count": 12,
   "id": "4e6a9cba-dc7b-4e38-a8af-3722a507ec22",
   "metadata": {},
   "outputs": [
    {
     "data": {
      "text/plain": [
       "array([[1., 1., 1., 1., 1.],\n",
       "       [1., 1., 1., 1., 1.],\n",
       "       [1., 1., 1., 1., 1.]])"
      ]
     },
     "execution_count": 12,
     "metadata": {},
     "output_type": "execute_result"
    }
   ],
   "source": [
    "# create matrix // (rows, column)\n",
    "np.ones((3,5), dtype=float)"
   ]
  },
  {
   "cell_type": "code",
   "execution_count": 13,
   "id": "012090ec-b62c-4cdc-ac1a-8a6d2e54cd96",
   "metadata": {},
   "outputs": [
    {
     "data": {
      "text/plain": [
       "array([ 1,  4,  7, 10, 13, 16, 19, 22, 25, 28])"
      ]
     },
     "execution_count": 13,
     "metadata": {},
     "output_type": "execute_result"
    }
   ],
   "source": [
    "#create array with linear sequence starts at 1 and ends at 30 with step 3 \n",
    "np.arange(1,31,3)"
   ]
  },
  {
   "cell_type": "code",
   "execution_count": 14,
   "id": "f18c4f6c-c872-408c-8fc4-500d16cd6a5b",
   "metadata": {},
   "outputs": [
    {
     "data": {
      "text/plain": [
       "array([0.  , 0.25, 0.5 , 0.75, 1.  ])"
      ]
     },
     "execution_count": 14,
     "metadata": {},
     "output_type": "execute_result"
    }
   ],
   "source": [
    "# linspace to create an array with equal gapping between the first  two numbers\n",
    "np.linspace(0,1,5)"
   ]
  },
  {
   "cell_type": "code",
   "execution_count": 15,
   "id": "4f7fa2cd-3702-41d0-8a56-3fb58884c698",
   "metadata": {},
   "outputs": [
    {
     "data": {
      "text/plain": [
       "array([[0.1199299 , 0.60038326, 0.47580614, 0.51313326],\n",
       "       [0.36218982, 0.62329344, 0.40070452, 0.87131619],\n",
       "       [0.62498148, 0.91326806, 0.12402433, 0.01988799],\n",
       "       [0.7632014 , 0.00932924, 0.36497447, 0.06384444]])"
      ]
     },
     "execution_count": 15,
     "metadata": {},
     "output_type": "execute_result"
    }
   ],
   "source": [
    "# create a matrix with random number\n",
    "np.random.random((4,4))"
   ]
  },
  {
   "cell_type": "code",
   "execution_count": 16,
   "id": "94345514-4313-440b-90fb-c50d0d7e334e",
   "metadata": {},
   "outputs": [
    {
     "data": {
      "text/plain": [
       "array([[-0.24664761, -0.17148278, -0.16425386],\n",
       "       [ 1.55641379, -0.23363284,  0.88786421],\n",
       "       [-1.41947635, -1.02548943, -0.39705906]])"
      ]
     },
     "execution_count": 16,
     "metadata": {},
     "output_type": "execute_result"
    }
   ],
   "source": [
    "# creates matric with equal normal curve \n",
    "np.random.normal(0,1,(3,3))"
   ]
  },
  {
   "cell_type": "code",
   "execution_count": 17,
   "id": "c411dde3-31de-4d74-a426-3709142017ca",
   "metadata": {},
   "outputs": [
    {
     "data": {
      "text/plain": [
       "array([[3, 1, 2],\n",
       "       [6, 7, 9],\n",
       "       [6, 6, 1]])"
      ]
     },
     "execution_count": 17,
     "metadata": {},
     "output_type": "execute_result"
    }
   ],
   "source": [
    "# controlling random with randint to display ints\n",
    "np.random.randint(1,10,(3,3))"
   ]
  },
  {
   "cell_type": "code",
   "execution_count": 18,
   "id": "0edd6ea8-86e6-442f-b38d-c170e8e96633",
   "metadata": {},
   "outputs": [
    {
     "data": {
      "text/plain": [
       "array([[1., 0., 0.],\n",
       "       [0., 1., 0.],\n",
       "       [0., 0., 1.]])"
      ]
     },
     "execution_count": 18,
     "metadata": {},
     "output_type": "execute_result"
    }
   ],
   "source": [
    "#identity matrix\n",
    "np.eye(3)"
   ]
  },
  {
   "cell_type": "code",
   "execution_count": 19,
   "id": "feb1917c-807b-49f0-96d6-3213de956495",
   "metadata": {},
   "outputs": [
    {
     "name": "stdout",
     "output_type": "stream",
     "text": [
      "[5 0 3 3 7 9]\n"
     ]
    }
   ],
   "source": [
    "np.random.seed(0)\n",
    "\n",
    "x1 = np.random.randint(10, size = 6)\n",
    "x2 = np.random.randint(10, size =(4,3))\n",
    "x3=np.random.randint(10, size=(2,5,5))\n",
    "print(x1)\n"
   ]
  },
  {
   "cell_type": "code",
   "execution_count": 20,
   "id": "0bb9a35f-30bd-4405-8d1a-ba5c8392fba7",
   "metadata": {},
   "outputs": [
    {
     "name": "stdout",
     "output_type": "stream",
     "text": [
      "[[3 5 2]\n",
      " [4 7 6]\n",
      " [8 8 1]\n",
      " [6 7 7]]\n"
     ]
    }
   ],
   "source": [
    "print(x2)\n"
   ]
  },
  {
   "cell_type": "code",
   "execution_count": 21,
   "id": "e99293f8-8df5-4e7b-96f1-abfecb3161c8",
   "metadata": {},
   "outputs": [
    {
     "name": "stdout",
     "output_type": "stream",
     "text": [
      "[[[8 1 5 9 8]\n",
      "  [9 4 3 0 3]\n",
      "  [5 0 2 3 8]\n",
      "  [1 3 3 3 7]\n",
      "  [0 1 9 9 0]]\n",
      "\n",
      " [[4 7 3 2 7]\n",
      "  [2 0 0 4 5]\n",
      "  [5 6 8 4 1]\n",
      "  [4 9 8 1 1]\n",
      "  [7 9 9 3 6]]]\n"
     ]
    }
   ],
   "source": [
    "\n",
    "print(x3)"
   ]
  },
  {
   "cell_type": "code",
   "execution_count": 22,
   "id": "86e3aa83-a727-4411-a39a-50976e7b5dea",
   "metadata": {},
   "outputs": [
    {
     "name": "stdout",
     "output_type": "stream",
     "text": [
      "item at row 1, column 1:  2\n",
      "item at row 3, column 3:  1\n"
     ]
    }
   ],
   "source": [
    "\n",
    "print(\"item at row 1, column 1: \", x2[0,2])\n",
    "print(\"item at row 3, column 3: \", x2[2, -1])"
   ]
  },
  {
   "cell_type": "code",
   "execution_count": 23,
   "id": "e9a30971-70e0-4479-b406-4f97cd5fb22e",
   "metadata": {},
   "outputs": [
    {
     "data": {
      "text/plain": [
       "array([[3, 5, 2],\n",
       "       [4, 7, 6],\n",
       "       [8, 8, 1],\n",
       "       [6, 7, 7]])"
      ]
     },
     "execution_count": 23,
     "metadata": {},
     "output_type": "execute_result"
    }
   ],
   "source": [
    "x2"
   ]
  },
  {
   "cell_type": "code",
   "execution_count": 24,
   "id": "08ed5965-9890-417c-a242-62cb0bb00832",
   "metadata": {},
   "outputs": [
    {
     "data": {
      "text/plain": [
       "array([[3, 5, 2],\n",
       "       [4, 7, 6]])"
      ]
     },
     "execution_count": 24,
     "metadata": {},
     "output_type": "execute_result"
    }
   ],
   "source": [
    "x2[:2,:3] # [row, column]"
   ]
  },
  {
   "cell_type": "code",
   "execution_count": 25,
   "id": "5a69d8d5-35a6-440c-a525-e817dd4b44bc",
   "metadata": {},
   "outputs": [
    {
     "data": {
      "text/plain": [
       "array([[3],\n",
       "       [8]])"
      ]
     },
     "execution_count": 25,
     "metadata": {},
     "output_type": "execute_result"
    }
   ],
   "source": [
    "x2[::2, :1] # :: show the steps involved, if you would like to skip accordingly"
   ]
  },
  {
   "cell_type": "code",
   "execution_count": 26,
   "id": "035f0112-5dc3-4520-ab3e-bcdb1c2d25cc",
   "metadata": {},
   "outputs": [
    {
     "data": {
      "text/plain": [
       "array([[2, 5, 3],\n",
       "       [6, 7, 4],\n",
       "       [1, 8, 8],\n",
       "       [7, 7, 6]])"
      ]
     },
     "execution_count": 26,
     "metadata": {},
     "output_type": "execute_result"
    }
   ],
   "source": [
    "x2[::1, ::-1] # - sign reverses the requirement weather row or column"
   ]
  },
  {
   "cell_type": "code",
   "execution_count": 27,
   "id": "b22f79e7-6eda-4210-a14a-33c6e7ceca60",
   "metadata": {},
   "outputs": [
    {
     "data": {
      "text/plain": [
       "array([1, 2, 3, 4, 5, 6, 7, 8, 9])"
      ]
     },
     "execution_count": 27,
     "metadata": {},
     "output_type": "execute_result"
    }
   ],
   "source": [
    "np.arange(1,10)"
   ]
  },
  {
   "cell_type": "code",
   "execution_count": 28,
   "id": "a7f39097-0000-4131-9a59-9c7777d682c9",
   "metadata": {},
   "outputs": [],
   "source": [
    "x4 = np.arange(1,10).reshape((3,3)) # shapes the list into the required matrix form"
   ]
  },
  {
   "cell_type": "code",
   "execution_count": 29,
   "id": "ee34e7dd-92d8-42f4-9ae8-a5c99b1dac52",
   "metadata": {},
   "outputs": [
    {
     "data": {
      "text/plain": [
       "array([[[1, 2, 3]],\n",
       "\n",
       "       [[4, 5, 6]],\n",
       "\n",
       "       [[7, 8, 9]]])"
      ]
     },
     "execution_count": 29,
     "metadata": {},
     "output_type": "execute_result"
    }
   ],
   "source": [
    "x4[: , np.newaxis]"
   ]
  },
  {
   "cell_type": "code",
   "execution_count": 30,
   "id": "6246b48c-fd8e-46c7-8a47-9347b1a840f1",
   "metadata": {},
   "outputs": [
    {
     "data": {
      "text/plain": [
       "array([1, 2, 3, 4, 5, 6])"
      ]
     },
     "execution_count": 30,
     "metadata": {},
     "output_type": "execute_result"
    }
   ],
   "source": [
    "# join the values\n",
    "x= np.array([1,2,3])\n",
    "y = np.array([4,5,6])\n",
    "np.concatenate([x,y])"
   ]
  },
  {
   "cell_type": "code",
   "execution_count": 31,
   "id": "38619e4f-a66b-49d6-8f66-d1d1ba59b393",
   "metadata": {},
   "outputs": [
    {
     "data": {
      "text/plain": [
       "array([[1, 2, 3],\n",
       "       [4, 5, 6],\n",
       "       [1, 2, 3],\n",
       "       [4, 5, 6]])"
      ]
     },
     "execution_count": 31,
     "metadata": {},
     "output_type": "execute_result"
    }
   ],
   "source": [
    "array2d = np.array([[1,2,3],[4,5,6]])\n",
    "np.concatenate([array2d,array2d])"
   ]
  },
  {
   "cell_type": "code",
   "execution_count": 32,
   "id": "e44862a5-322b-466d-98fd-ad93bc208c53",
   "metadata": {},
   "outputs": [
    {
     "data": {
      "text/plain": [
       "array([[1, 2, 3],\n",
       "       [4, 5, 6],\n",
       "       [1, 2, 3],\n",
       "       [4, 5, 6]])"
      ]
     },
     "execution_count": 32,
     "metadata": {},
     "output_type": "execute_result"
    }
   ],
   "source": [
    "# normally axis is default 0, it adds vertically\n",
    "array2d = np.array([[1,2,3],[4,5,6]])\n",
    "np.concatenate([array2d,array2d], axis=0)"
   ]
  },
  {
   "cell_type": "code",
   "execution_count": 33,
   "id": "b616942e-8833-4302-908e-987344946b3b",
   "metadata": {},
   "outputs": [
    {
     "data": {
      "text/plain": [
       "array([[1, 2, 3, 1, 2, 3],\n",
       "       [4, 5, 6, 4, 5, 6]])"
      ]
     },
     "execution_count": 33,
     "metadata": {},
     "output_type": "execute_result"
    }
   ],
   "source": [
    "# with axis 1, it adds horizontally\n",
    "array2d = np.array([[1,2,3],[4,5,6]])\n",
    "np.concatenate([array2d,array2d], axis=1)"
   ]
  },
  {
   "cell_type": "code",
   "execution_count": 34,
   "id": "d6b3f62e-e04a-455c-bc75-85a04a93f17a",
   "metadata": {},
   "outputs": [
    {
     "name": "stdout",
     "output_type": "stream",
     "text": [
      "[1 2] [3 5] [77  8] [90  2]\n"
     ]
    }
   ],
   "source": [
    "# np.split\n",
    "z= [1,2,3,5,77,8,90,2]\n",
    "z1,z2,z3, z4 = np.split(z, [2,4,6])# here(list_name, [spliting indexes, like breaks at position 2 and 4])\n",
    "print(z1,z2,z3,z4)"
   ]
  },
  {
   "cell_type": "code",
   "execution_count": 35,
   "id": "6fef27b8-bc86-43c1-8a73-f88c2f2e7d20",
   "metadata": {},
   "outputs": [
    {
     "data": {
      "text/plain": [
       "array([[ 0,  1,  2,  3],\n",
       "       [ 4,  5,  6,  7],\n",
       "       [ 8,  9, 10, 11],\n",
       "       [12, 13, 14, 15]])"
      ]
     },
     "execution_count": 35,
     "metadata": {},
     "output_type": "execute_result"
    }
   ],
   "source": [
    "grid = np.arange(16).reshape((4,4))\n",
    "grid"
   ]
  },
  {
   "cell_type": "code",
   "execution_count": 36,
   "id": "f39c066f-57d8-474b-a5e9-1425a09cab31",
   "metadata": {},
   "outputs": [
    {
     "name": "stdout",
     "output_type": "stream",
     "text": [
      "[[0 1 2 3]\n",
      " [4 5 6 7]]\n",
      " \n",
      "[[ 8  9 10 11]\n",
      " [12 13 14 15]]\n"
     ]
    }
   ],
   "source": [
    "# split breaks exactly in the middle\n",
    "\n",
    "upper, lower = np.vsplit(grid, [2])#(list, [index])\n",
    "print(upper)\n",
    "print(\" \")\n",
    "print(lower)"
   ]
  },
  {
   "cell_type": "code",
   "execution_count": 37,
   "id": "13dd04e0-400b-42d9-ad1a-827beb9e3008",
   "metadata": {},
   "outputs": [
    {
     "name": "stdout",
     "output_type": "stream",
     "text": [
      "[[0 1 2 3]\n",
      " [4 5 6 7]]\n",
      " \n",
      "[[ 8  9 10 11]\n",
      " [12 13 14 15]]\n"
     ]
    }
   ],
   "source": [
    "left, right = np.hsplit(grid, [2]) # (list, [index])\n",
    "print(upper)\n",
    "print(\" \")\n",
    "print(lower)"
   ]
  },
  {
   "cell_type": "code",
   "execution_count": 38,
   "id": "570bab70-a222-49b1-9684-efd11c24daf8",
   "metadata": {},
   "outputs": [
    {
     "data": {
      "text/plain": [
       "array([0.16666667, 1.        , 0.25      , 0.25      , 0.125     ])"
      ]
     },
     "execution_count": 38,
     "metadata": {},
     "output_type": "execute_result"
    }
   ],
   "source": [
    "np.random.seed(0)\n",
    "def compute_reciprocals(values):\n",
    "    output = np.empty(len(values))\n",
    "    for i in range(len(values)):\n",
    "        output[i] = 1.0/ values[i]\n",
    "    return output\n",
    "\n",
    "values = np.random.randint(1,10, size=5)\n",
    "compute_reciprocals(values)"
   ]
  },
  {
   "cell_type": "code",
   "execution_count": 39,
   "id": "587f7c41-de4b-46ab-96d2-991d03c08a0b",
   "metadata": {},
   "outputs": [
    {
     "name": "stdout",
     "output_type": "stream",
     "text": [
      "209 ms ± 25.4 ms per loop (mean ± std. dev. of 7 runs, 1 loop each)\n"
     ]
    }
   ],
   "source": [
    "big_array = np.random.randint(1, 100, size = 100000)\n",
    "\n",
    "%timeit compute_reciprocals(big_array) # shows the required time for the alorithm to take place"
   ]
  },
  {
   "cell_type": "code",
   "execution_count": 40,
   "id": "690077e9-269c-40ba-96e3-8f8afd9c47b1",
   "metadata": {},
   "outputs": [
    {
     "data": {
      "text/plain": [
       "array([1, 4, 3, 5, 3])"
      ]
     },
     "execution_count": 40,
     "metadata": {},
     "output_type": "execute_result"
    }
   ],
   "source": [
    "momo = np.array([-1,-4,3,-5,-3])\n",
    "abs(momo)"
   ]
  },
  {
   "cell_type": "code",
   "execution_count": 41,
   "id": "707d2ce2-423a-4976-8058-070d00dfe348",
   "metadata": {},
   "outputs": [],
   "source": [
    "# trigonometric use(np.sin(value), np.cos(value))\n",
    "#log use(np.exp(), and np.log())"
   ]
  },
  {
   "cell_type": "code",
   "execution_count": null,
   "id": "34c04d2b-40e4-4395-b939-b060856c5c7f",
   "metadata": {},
   "outputs": [],
   "source": []
  },
  {
   "cell_type": "code",
   "execution_count": 42,
   "id": "81d82ef5-c689-462d-bcf4-2ff246618e58",
   "metadata": {},
   "outputs": [
    {
     "name": "stdout",
     "output_type": "stream",
     "text": [
      "974 µs ± 91.1 µs per loop (mean ± std. dev. of 7 runs, 1,000 loops each)\n",
      "7.46 µs ± 502 ns per loop (mean ± std. dev. of 7 runs, 100,000 loops each)\n"
     ]
    }
   ],
   "source": [
    "s = np.random.random(10000)\n",
    "%timeit sum(s)\n",
    "%timeit np.sum(s)"
   ]
  },
  {
   "cell_type": "code",
   "execution_count": 43,
   "id": "a9cdf45a-0dd2-409b-baa5-2edce05fd723",
   "metadata": {},
   "outputs": [
    {
     "data": {
      "text/plain": [
       "(1.2768194465384575e-05, 0.9998253276372591)"
      ]
     },
     "execution_count": 43,
     "metadata": {},
     "output_type": "execute_result"
    }
   ],
   "source": [
    "min(s), max(s)"
   ]
  },
  {
   "cell_type": "code",
   "execution_count": 44,
   "id": "128ecd70-f2a0-4804-a7f5-fe0cc958cc52",
   "metadata": {},
   "outputs": [
    {
     "data": {
      "text/plain": [
       "array([[0.50350633, 0.43983211, 0.75635507, 0.59713333],\n",
       "       [0.11252664, 0.01273539, 0.61797516, 0.11558311],\n",
       "       [0.9021216 , 0.69478105, 0.35993044, 0.88223131]])"
      ]
     },
     "execution_count": 44,
     "metadata": {},
     "output_type": "execute_result"
    }
   ],
   "source": [
    "n_arr = np.random.random((3,4))\n",
    "n_arr"
   ]
  },
  {
   "cell_type": "code",
   "execution_count": 45,
   "id": "ff9d0868-dcfb-4285-8cdc-d6895af7743a",
   "metadata": {},
   "outputs": [
    {
     "name": "stdout",
     "output_type": "stream",
     "text": [
      "5.994711530951498\n"
     ]
    }
   ],
   "source": [
    "print(n_arr.sum())"
   ]
  },
  {
   "cell_type": "code",
   "execution_count": 46,
   "id": "fcaaa4dc-ce2b-46e7-8cd8-a7f6896c6480",
   "metadata": {},
   "outputs": [
    {
     "name": "stdout",
     "output_type": "stream",
     "text": [
      "5.994711530951498\n"
     ]
    }
   ],
   "source": [
    "print(np.sum(n_arr))"
   ]
  },
  {
   "cell_type": "code",
   "execution_count": 47,
   "id": "0d007015-252f-47a8-8081-6cb5be0fb491",
   "metadata": {},
   "outputs": [
    {
     "name": "stdout",
     "output_type": "stream",
     "text": [
      "0.01273538682180897\n",
      "[0.43983211 0.01273539 0.35993044]\n"
     ]
    }
   ],
   "source": [
    "print(n_arr.min())\n",
    "print(n_arr.min(axis=1))"
   ]
  },
  {
   "cell_type": "code",
   "execution_count": 48,
   "id": "d3efbc51-4d34-48a1-b89f-26bf376d1a27",
   "metadata": {},
   "outputs": [
    {
     "data": {
      "text/plain": [
       "array([[5, 0, 3, 3],\n",
       "       [7, 9, 3, 5],\n",
       "       [2, 4, 7, 6]])"
      ]
     },
     "execution_count": 48,
     "metadata": {},
     "output_type": "execute_result"
    }
   ],
   "source": [
    "rng = np.random.RandomState(0)\n",
    "x = rng.randint(10, size=(3,4))\n",
    "x"
   ]
  },
  {
   "cell_type": "code",
   "execution_count": 49,
   "id": "972b92e9-b44b-4b49-8874-3848a0c7433c",
   "metadata": {},
   "outputs": [
    {
     "data": {
      "text/plain": [
       "array([[ True,  True,  True,  True],\n",
       "       [False, False,  True,  True],\n",
       "       [ True,  True, False, False]])"
      ]
     },
     "execution_count": 49,
     "metadata": {},
     "output_type": "execute_result"
    }
   ],
   "source": [
    "x<=5"
   ]
  },
  {
   "cell_type": "code",
   "execution_count": 50,
   "id": "b39bb6ba-6c7c-4836-8bf5-2c7e29f491c5",
   "metadata": {},
   "outputs": [
    {
     "data": {
      "text/plain": [
       "8"
      ]
     },
     "execution_count": 50,
     "metadata": {},
     "output_type": "execute_result"
    }
   ],
   "source": [
    "np.count_nonzero(x<=5)"
   ]
  },
  {
   "cell_type": "code",
   "execution_count": 51,
   "id": "eb6d5663-f3f6-46e3-b25d-782922b69d22",
   "metadata": {},
   "outputs": [
    {
     "data": {
      "text/plain": [
       "6"
      ]
     },
     "execution_count": 51,
     "metadata": {},
     "output_type": "execute_result"
    }
   ],
   "source": [
    "# comparitive only works in boolean so the binary codes of the numbers is added\n",
    "np.sum(x<5)"
   ]
  },
  {
   "cell_type": "markdown",
   "id": "3beeb26e-97b3-4de2-bade-940a98885df4",
   "metadata": {},
   "source": [
    "### Fancy indexing"
   ]
  },
  {
   "cell_type": "code",
   "execution_count": 53,
   "id": "9c8489b6-e946-42ab-b4b4-d4f53d702b19",
   "metadata": {},
   "outputs": [
    {
     "data": {
      "text/plain": [
       "array([23, 65, 21])"
      ]
     },
     "execution_count": 53,
     "metadata": {},
     "output_type": "execute_result"
    }
   ],
   "source": [
    "x = np.array([31,23,4,54,65,34,21,54,65,76,44,34,332,])\n",
    "indices=[1,4,6]\n",
    "x[indices]"
   ]
  },
  {
   "cell_type": "code",
   "execution_count": 54,
   "id": "5f868878-185f-4a2d-bea9-0445d52d1baf",
   "metadata": {},
   "outputs": [
    {
     "data": {
      "text/plain": [
       "(array([6., 5., 1., 0., 0., 0., 0., 0., 0., 1.]),\n",
       " array([  4. ,  36.8,  69.6, 102.4, 135.2, 168. , 200.8, 233.6, 266.4,\n",
       "        299.2, 332. ]),\n",
       " <BarContainer object of 10 artists>)"
      ]
     },
     "execution_count": 54,
     "metadata": {},
     "output_type": "execute_result"
    },
    {
     "data": {
      "image/png": "[encoded data removed]",
      "text/plain": [
       "<Figure size 640x480 with 1 Axes>"
      ]
     },
     "metadata": {},
     "output_type": "display_data"
    }
   ],
   "source": [
    "import matplotlib.pyplot as plt\n",
    "plt.hist(x)"
   ]
  },
  {
   "cell_type": "code",
   "execution_count": 55,
   "id": "f6aea4cd-ccfb-4592-9da3-65cb5e5fa925",
   "metadata": {},
   "outputs": [
    {
     "data": {
      "text/plain": [
       "array([  4,  21,  23,  31,  34,  34,  44,  54,  54,  65,  65,  76, 332])"
      ]
     },
     "execution_count": 55,
     "metadata": {},
     "output_type": "execute_result"
    }
   ],
   "source": [
    "np.sort(x)"
   ]
  },
  {
   "cell_type": "raw",
   "id": "74c6b763-e033-4975-a81c-eb0f0cf1d54c",
   "metadata": {},
   "source": [
    "x.sort()\n",
    "x"
   ]
  },
  {
   "cell_type": "code",
   "execution_count": 56,
   "id": "816c61f9-39df-460d-948e-93e84638feb1",
   "metadata": {},
   "outputs": [
    {
     "data": {
      "text/plain": [
       "array([ 2,  6,  1,  0,  5, 11, 10,  3,  7,  4,  8,  9, 12], dtype=int64)"
      ]
     },
     "execution_count": 56,
     "metadata": {},
     "output_type": "execute_result"
    }
   ],
   "source": [
    "# gives the indexing of the sorted array in the original array// \n",
    "# eg. the fist one means the sorted array has x[2] as the fist element\n",
    "x.argsort()"
   ]
  },
  {
   "cell_type": "code",
   "execution_count": 57,
   "id": "d28671f2-249b-41a8-83eb-3b4cc66f61cc",
   "metadata": {},
   "outputs": [
    {
     "data": {
      "text/plain": [
       "array([[6, 3, 7, 4, 6, 9],\n",
       "       [2, 6, 7, 4, 3, 7],\n",
       "       [7, 2, 5, 4, 1, 7],\n",
       "       [5, 1, 4, 0, 9, 5]])"
      ]
     },
     "execution_count": 57,
     "metadata": {},
     "output_type": "execute_result"
    }
   ],
   "source": [
    "rand = np.random.RandomState(42)\n",
    "X = rand.randint(0,10,(4,6))\n",
    "X"
   ]
  },
  {
   "cell_type": "code",
   "execution_count": 59,
   "id": "03b9d4ed-daa5-456d-aafa-79129ebe33bb",
   "metadata": {},
   "outputs": [
    {
     "data": {
      "text/plain": [
       "array([[3, 4, 6, 6, 7, 9],\n",
       "       [2, 3, 4, 6, 7, 7],\n",
       "       [1, 2, 4, 5, 7, 7],\n",
       "       [0, 1, 4, 5, 5, 9]])"
      ]
     },
     "execution_count": 59,
     "metadata": {},
     "output_type": "execute_result"
    }
   ],
   "source": [
    "np.sort(X)"
   ]
  },
  {
   "cell_type": "code",
   "execution_count": 69,
   "id": "fc56bd17-f1ed-4f1d-979c-b2d078feab3e",
   "metadata": {},
   "outputs": [
    {
     "name": "stdout",
     "output_type": "stream",
     "text": [
      "[ 7  2 12  3 21  5  4]\n"
     ]
    }
   ],
   "source": [
    "x = np.array([7,2,12,3,21,5,4])\n",
    "print(x)"
   ]
  },
  {
   "cell_type": "code",
   "execution_count": 91,
   "id": "50b7bc19-d986-412f-a39b-919c2f77949d",
   "metadata": {},
   "outputs": [
    {
     "data": {
      "text/plain": [
       "array([ 2,  3,  4,  5,  7, 12, 21])"
      ]
     },
     "execution_count": 91,
     "metadata": {},
     "output_type": "execute_result"
    }
   ],
   "source": [
    "# breaks the array in half sorting smaller on left while larger on right\n",
    "np.partition(x,3)"
   ]
  },
  {
   "cell_type": "code",
   "execution_count": 93,
   "id": "0541c7b1-6305-430c-aa80-5397966bb4c2",
   "metadata": {},
   "outputs": [
    {
     "data": {
      "text/plain": [
       "array([ 2,  3,  4,  5,  7, 12, 21])"
      ]
     },
     "execution_count": 93,
     "metadata": {},
     "output_type": "execute_result"
    }
   ],
   "source": [
    "np.partition(x,6)"
   ]
  },
  {
   "cell_type": "code",
   "execution_count": 95,
   "id": "129e9498-4328-4b11-9d32-73906dcbeb26",
   "metadata": {},
   "outputs": [
    {
     "data": {
      "text/plain": [
       "array([[3, 4, 6, 6, 7, 9],\n",
       "       [2, 3, 4, 6, 7, 7],\n",
       "       [2, 1, 4, 5, 7, 7],\n",
       "       [0, 4, 1, 5, 9, 5]])"
      ]
     },
     "execution_count": 95,
     "metadata": {},
     "output_type": "execute_result"
    }
   ],
   "source": [
    "np.partition(X,3)"
   ]
  },
  {
   "cell_type": "markdown",
   "id": "75f1f2ac-8045-4cd1-88db-f9d2d43fee3a",
   "metadata": {},
   "source": [
    "### STructured numpy"
   ]
  },
  {
   "cell_type": "code",
   "execution_count": 98,
   "id": "d063ce9b-b365-4067-b667-0ad215a97858",
   "metadata": {},
   "outputs": [],
   "source": [
    "name = [\"alice\", \"ram\", \"hari\"]\n",
    "age = [32, 21, 48]\n",
    "weight = [42, 62,90]"
   ]
  },
  {
   "cell_type": "code",
   "execution_count": 122,
   "id": "3b8ba685-7de3-4c93-bd7b-0b9bbf004d98",
   "metadata": {},
   "outputs": [
    {
     "name": "stdout",
     "output_type": "stream",
     "text": [
      "[('alice', 32, 42.) ('ram', 21, 62.) ('hari', 48, 90.)]\n"
     ]
    }
   ],
   "source": [
    "import numpy as np\n",
    "\n",
    "# Define the values to be assigned\n",
    "name = np.array([\"alice\", \"ram\", \"hari\"], dtype='U10')\n",
    "age = np.array([32, 21, 48], dtype='i4')\n",
    "weight = np.array([42, 62, 90], dtype='f8')\n",
    "\n",
    "# Define the structured array with the correct dtype and matching size\n",
    "data = np.zeros(3, dtype={'names': ('name', 'age', 'weight'), 'formats': ('U10', 'i4', 'f8')})\n",
    "\n",
    "# Assign the values to the respective fields\n",
    "data['name'] = name\n",
    "data['age'] = age\n",
    "data['weight'] = weight\n",
    "\n",
    "# Print the structured array to verify the assignment\n",
    "print(data)\n"
   ]
  },
  {
   "cell_type": "code",
   "execution_count": 110,
   "id": "c6f513f5-be5a-4f69-91ec-b7bcacc34001",
   "metadata": {},
   "outputs": [
    {
     "data": {
      "text/plain": [
       "array([('', 0, 0.), ('', 0, 0.), ('', 0, 0.), ('', 0, 0.)],\n",
       "      dtype=[('name', '<U10'), ('age', '<i4'), ('weight', '<f8')])"
      ]
     },
     "execution_count": 110,
     "metadata": {},
     "output_type": "execute_result"
    }
   ],
   "source": [
    "data"
   ]
  },
  {
   "cell_type": "code",
   "execution_count": 1,
   "id": "b910d76d-6a93-466e-b765-d36bcc09d6cd",
   "metadata": {},
   "outputs": [
    {
     "ename": "NameError",
     "evalue": "name 'np' is not defined",
     "output_type": "error",
     "traceback": [
      "\u001b[1;31m---------------------------------------------------------------------------\u001b[0m",
      "\u001b[1;31mNameError\u001b[0m                                 Traceback (most recent call last)",
      "Cell \u001b[1;32mIn[1], line 1\u001b[0m\n\u001b[1;32m----> 1\u001b[0m vals2 \u001b[38;5;241m=\u001b[39m np\u001b[38;5;241m.\u001b[39marray(\u001b[38;5;241m2\u001b[39m,\u001b[38;5;241m3\u001b[39m,np\u001b[38;5;241m.\u001b[39mnan, \u001b[38;5;241m4\u001b[39m)\n",
      "\u001b[1;31mNameError\u001b[0m: name 'np' is not defined"
     ]
    }
   ],
   "source": []
  },
  {
   "cell_type": "code",
   "execution_count": null,
   "id": "9cf46907-6be3-4f1c-8c3c-e130b2f49e04",
   "metadata": {},
   "outputs": [],
   "source": []
  }
 ],
 "metadata": {
  "kernelspec": {
   "display_name": "Python 3 (ipykernel)",
   "language": "python",
   "name": "python3"
  },
  "language_info": {
   "codemirror_mode": {
    "name": "ipython",
    "version": 3
   },
   "file_extension": ".py",
   "mimetype": "text/x-python",
   "name": "python",
   "nbconvert_exporter": "python",
   "pygments_lexer": "ipython3",
   "version": "3.11.7"
  }
 },
 "nbformat": 4,
 "nbformat_minor": 5
}
