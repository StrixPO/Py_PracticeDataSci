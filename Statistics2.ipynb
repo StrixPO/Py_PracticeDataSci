{
 "cells": [
  {
   "cell_type": "code",
   "execution_count": 1,
   "id": "dbc0981d-bb3a-4a04-808e-3db9c07e804d",
   "metadata": {},
   "outputs": [],
   "source": [
    "import pandas as pd \n",
    "import numpy as np \n",
    "import matplotlib.pyplot as plt\n",
    "from scipy import stats \n",
    "import statsmodels.api as sn"
   ]
  },
  {
   "cell_type": "markdown",
   "id": "e144640b-071e-4346-8e0e-8253855e1d83",
   "metadata": {},
   "source": [
    "# Convention interval"
   ]
  },
  {
   "cell_type": "code",
   "execution_count": 12,
   "id": "7dca1b9c-3892-4ca2-b11e-52d2b11e38b8",
   "metadata": {},
   "outputs": [],
   "source": [
    "aqi = pd.read_csv('../c4_epa_air_quality.csv')"
   ]
  },
  {
   "cell_type": "code",
   "execution_count": 14,
   "id": "976e42b4-f1a0-4793-983f-0bd29b7285f8",
   "metadata": {},
   "outputs": [],
   "source": [
    "rre_states = ['California', 'Florida', 'Michigan', 'Ohio', 'Penneylvania', 'Texas']"
   ]
  },
  {
   "cell_type": "code",
   "execution_count": 16,
   "id": "7a981712-df6e-411a-b125-76c3676f35e9",
   "metadata": {},
   "outputs": [
    {
     "data": {
      "text/html": [
       "<div>\n",
       "<style scoped>\n",
       "    .dataframe tbody tr th:only-of-type {\n",
       "        vertical-align: middle;\n",
       "    }\n",
       "\n",
       "    .dataframe tbody tr th {\n",
       "        vertical-align: top;\n",
       "    }\n",
       "\n",
       "    .dataframe thead th {\n",
       "        text-align: right;\n",
       "    }\n",
       "</style>\n",
       "<table border=\"1\" class=\"dataframe\">\n",
       "  <thead>\n",
       "    <tr style=\"text-align: right;\">\n",
       "      <th></th>\n",
       "      <th>aqi</th>\n",
       "      <th>state_name</th>\n",
       "    </tr>\n",
       "    <tr>\n",
       "      <th>state_name</th>\n",
       "      <th></th>\n",
       "      <th></th>\n",
       "    </tr>\n",
       "  </thead>\n",
       "  <tbody>\n",
       "    <tr>\n",
       "      <th>California</th>\n",
       "      <td>12.121212</td>\n",
       "      <td>66</td>\n",
       "    </tr>\n",
       "    <tr>\n",
       "      <th>Florida</th>\n",
       "      <td>5.500000</td>\n",
       "      <td>12</td>\n",
       "    </tr>\n",
       "    <tr>\n",
       "      <th>Michigan</th>\n",
       "      <td>8.111111</td>\n",
       "      <td>9</td>\n",
       "    </tr>\n",
       "    <tr>\n",
       "      <th>Ohio</th>\n",
       "      <td>3.333333</td>\n",
       "      <td>12</td>\n",
       "    </tr>\n",
       "    <tr>\n",
       "      <th>Texas</th>\n",
       "      <td>2.700000</td>\n",
       "      <td>10</td>\n",
       "    </tr>\n",
       "  </tbody>\n",
       "</table>\n",
       "</div>"
      ],
      "text/plain": [
       "                  aqi  state_name\n",
       "state_name                       \n",
       "California  12.121212          66\n",
       "Florida      5.500000          12\n",
       "Michigan     8.111111           9\n",
       "Ohio         3.333333          12\n",
       "Texas        2.700000          10"
      ]
     },
     "execution_count": 16,
     "metadata": {},
     "output_type": "execute_result"
    }
   ],
   "source": [
    "aqi_rre = aqi[aqi['state_name'].isin(rre_states)]\n",
    "aqi_rre.groupby(['state_name']).agg({'aqi':'mean','state_name':'count'})"
   ]
  },
  {
   "cell_type": "code",
   "execution_count": null,
   "id": "4f694ef1-bc48-49c7-a29b-6b190ba8a715",
   "metadata": {},
   "outputs": [],
   "source": []
  },
  {
   "cell_type": "code",
   "execution_count": null,
   "id": "f503b949-c8f9-42ca-86df-927f16927c4c",
   "metadata": {},
   "outputs": [],
   "source": []
  },
  {
   "cell_type": "code",
   "execution_count": null,
   "id": "a903386b-59e0-482d-8044-9faa7e20a786",
   "metadata": {},
   "outputs": [],
   "source": []
  }
 ],
 "metadata": {
  "kernelspec": {
   "display_name": "Python 3 (ipykernel)",
   "language": "python",
   "name": "python3"
  },
  "language_info": {
   "codemirror_mode": {
    "name": "ipython",
    "version": 3
   },
   "file_extension": ".py",
   "mimetype": "text/x-python",
   "name": "python",
   "nbconvert_exporter": "python",
   "pygments_lexer": "ipython3",
   "version": "3.11.7"
  }
 },
 "nbformat": 4,
 "nbformat_minor": 5
}
