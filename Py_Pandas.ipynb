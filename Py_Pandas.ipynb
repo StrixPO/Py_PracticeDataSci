{
 "cells": [
  {
   "cell_type": "code",
   "execution_count": 1,
   "id": "c2b20a5a-a61c-480c-82f4-90838e69cb9c",
   "metadata": {},
   "outputs": [],
   "source": [
    "import numpy as np\n",
    "import pandas as pd\n",
    "\n"
   ]
  },
  {
   "cell_type": "code",
   "execution_count": 2,
   "id": "dcaca2cf-e073-4514-ab4a-60a5987e03ca",
   "metadata": {},
   "outputs": [
    {
     "ename": "FileNotFoundError",
     "evalue": "[Errno 2] No such file or directory: 'D:\\\\Study\\\\Data science\\\\kaggle\\\\president_heights.csv'",
     "output_type": "error",
     "traceback": [
      "\u001b[1;31m---------------------------------------------------------------------------\u001b[0m",
      "\u001b[1;31mFileNotFoundError\u001b[0m                         Traceback (most recent call last)",
      "Cell \u001b[1;32mIn[2], line 1\u001b[0m\n\u001b[1;32m----> 1\u001b[0m data \u001b[38;5;241m=\u001b[39m pd\u001b[38;5;241m.\u001b[39mread_csv(\u001b[38;5;124m'\u001b[39m\u001b[38;5;124mD:\u001b[39m\u001b[38;5;124m\\\u001b[39m\u001b[38;5;124mStudy\u001b[39m\u001b[38;5;124m\\\u001b[39m\u001b[38;5;124mData science\u001b[39m\u001b[38;5;124m\\\u001b[39m\u001b[38;5;124mkaggle\u001b[39m\u001b[38;5;124m\\\u001b[39m\u001b[38;5;124mpresident_heights.csv\u001b[39m\u001b[38;5;124m'\u001b[39m)\n\u001b[0;32m      2\u001b[0m data\u001b[38;5;241m.\u001b[39mhead()\n",
      "File \u001b[1;32mD:\\Study_app\\Anaconda\\Lib\\site-packages\\pandas\\io\\parsers\\readers.py:948\u001b[0m, in \u001b[0;36mread_csv\u001b[1;34m(filepath_or_buffer, sep, delimiter, header, names, index_col, usecols, dtype, engine, converters, true_values, false_values, skipinitialspace, skiprows, skipfooter, nrows, na_values, keep_default_na, na_filter, verbose, skip_blank_lines, parse_dates, infer_datetime_format, keep_date_col, date_parser, date_format, dayfirst, cache_dates, iterator, chunksize, compression, thousands, decimal, lineterminator, quotechar, quoting, doublequote, escapechar, comment, encoding, encoding_errors, dialect, on_bad_lines, delim_whitespace, low_memory, memory_map, float_precision, storage_options, dtype_backend)\u001b[0m\n\u001b[0;32m    935\u001b[0m kwds_defaults \u001b[38;5;241m=\u001b[39m _refine_defaults_read(\n\u001b[0;32m    936\u001b[0m     dialect,\n\u001b[0;32m    937\u001b[0m     delimiter,\n\u001b[1;32m   (...)\u001b[0m\n\u001b[0;32m    944\u001b[0m     dtype_backend\u001b[38;5;241m=\u001b[39mdtype_backend,\n\u001b[0;32m    945\u001b[0m )\n\u001b[0;32m    946\u001b[0m kwds\u001b[38;5;241m.\u001b[39mupdate(kwds_defaults)\n\u001b[1;32m--> 948\u001b[0m \u001b[38;5;28;01mreturn\u001b[39;00m _read(filepath_or_buffer, kwds)\n",
      "File \u001b[1;32mD:\\Study_app\\Anaconda\\Lib\\site-packages\\pandas\\io\\parsers\\readers.py:611\u001b[0m, in \u001b[0;36m_read\u001b[1;34m(filepath_or_buffer, kwds)\u001b[0m\n\u001b[0;32m    608\u001b[0m _validate_names(kwds\u001b[38;5;241m.\u001b[39mget(\u001b[38;5;124m\"\u001b[39m\u001b[38;5;124mnames\u001b[39m\u001b[38;5;124m\"\u001b[39m, \u001b[38;5;28;01mNone\u001b[39;00m))\n\u001b[0;32m    610\u001b[0m \u001b[38;5;66;03m# Create the parser.\u001b[39;00m\n\u001b[1;32m--> 611\u001b[0m parser \u001b[38;5;241m=\u001b[39m TextFileReader(filepath_or_buffer, \u001b[38;5;241m*\u001b[39m\u001b[38;5;241m*\u001b[39mkwds)\n\u001b[0;32m    613\u001b[0m \u001b[38;5;28;01mif\u001b[39;00m chunksize \u001b[38;5;129;01mor\u001b[39;00m iterator:\n\u001b[0;32m    614\u001b[0m     \u001b[38;5;28;01mreturn\u001b[39;00m parser\n",
      "File \u001b[1;32mD:\\Study_app\\Anaconda\\Lib\\site-packages\\pandas\\io\\parsers\\readers.py:1448\u001b[0m, in \u001b[0;36mTextFileReader.__init__\u001b[1;34m(self, f, engine, **kwds)\u001b[0m\n\u001b[0;32m   1445\u001b[0m     \u001b[38;5;28mself\u001b[39m\u001b[38;5;241m.\u001b[39moptions[\u001b[38;5;124m\"\u001b[39m\u001b[38;5;124mhas_index_names\u001b[39m\u001b[38;5;124m\"\u001b[39m] \u001b[38;5;241m=\u001b[39m kwds[\u001b[38;5;124m\"\u001b[39m\u001b[38;5;124mhas_index_names\u001b[39m\u001b[38;5;124m\"\u001b[39m]\n\u001b[0;32m   1447\u001b[0m \u001b[38;5;28mself\u001b[39m\u001b[38;5;241m.\u001b[39mhandles: IOHandles \u001b[38;5;241m|\u001b[39m \u001b[38;5;28;01mNone\u001b[39;00m \u001b[38;5;241m=\u001b[39m \u001b[38;5;28;01mNone\u001b[39;00m\n\u001b[1;32m-> 1448\u001b[0m \u001b[38;5;28mself\u001b[39m\u001b[38;5;241m.\u001b[39m_engine \u001b[38;5;241m=\u001b[39m \u001b[38;5;28mself\u001b[39m\u001b[38;5;241m.\u001b[39m_make_engine(f, \u001b[38;5;28mself\u001b[39m\u001b[38;5;241m.\u001b[39mengine)\n",
      "File \u001b[1;32mD:\\Study_app\\Anaconda\\Lib\\site-packages\\pandas\\io\\parsers\\readers.py:1705\u001b[0m, in \u001b[0;36mTextFileReader._make_engine\u001b[1;34m(self, f, engine)\u001b[0m\n\u001b[0;32m   1703\u001b[0m     \u001b[38;5;28;01mif\u001b[39;00m \u001b[38;5;124m\"\u001b[39m\u001b[38;5;124mb\u001b[39m\u001b[38;5;124m\"\u001b[39m \u001b[38;5;129;01mnot\u001b[39;00m \u001b[38;5;129;01min\u001b[39;00m mode:\n\u001b[0;32m   1704\u001b[0m         mode \u001b[38;5;241m+\u001b[39m\u001b[38;5;241m=\u001b[39m \u001b[38;5;124m\"\u001b[39m\u001b[38;5;124mb\u001b[39m\u001b[38;5;124m\"\u001b[39m\n\u001b[1;32m-> 1705\u001b[0m \u001b[38;5;28mself\u001b[39m\u001b[38;5;241m.\u001b[39mhandles \u001b[38;5;241m=\u001b[39m get_handle(\n\u001b[0;32m   1706\u001b[0m     f,\n\u001b[0;32m   1707\u001b[0m     mode,\n\u001b[0;32m   1708\u001b[0m     encoding\u001b[38;5;241m=\u001b[39m\u001b[38;5;28mself\u001b[39m\u001b[38;5;241m.\u001b[39moptions\u001b[38;5;241m.\u001b[39mget(\u001b[38;5;124m\"\u001b[39m\u001b[38;5;124mencoding\u001b[39m\u001b[38;5;124m\"\u001b[39m, \u001b[38;5;28;01mNone\u001b[39;00m),\n\u001b[0;32m   1709\u001b[0m     compression\u001b[38;5;241m=\u001b[39m\u001b[38;5;28mself\u001b[39m\u001b[38;5;241m.\u001b[39moptions\u001b[38;5;241m.\u001b[39mget(\u001b[38;5;124m\"\u001b[39m\u001b[38;5;124mcompression\u001b[39m\u001b[38;5;124m\"\u001b[39m, \u001b[38;5;28;01mNone\u001b[39;00m),\n\u001b[0;32m   1710\u001b[0m     memory_map\u001b[38;5;241m=\u001b[39m\u001b[38;5;28mself\u001b[39m\u001b[38;5;241m.\u001b[39moptions\u001b[38;5;241m.\u001b[39mget(\u001b[38;5;124m\"\u001b[39m\u001b[38;5;124mmemory_map\u001b[39m\u001b[38;5;124m\"\u001b[39m, \u001b[38;5;28;01mFalse\u001b[39;00m),\n\u001b[0;32m   1711\u001b[0m     is_text\u001b[38;5;241m=\u001b[39mis_text,\n\u001b[0;32m   1712\u001b[0m     errors\u001b[38;5;241m=\u001b[39m\u001b[38;5;28mself\u001b[39m\u001b[38;5;241m.\u001b[39moptions\u001b[38;5;241m.\u001b[39mget(\u001b[38;5;124m\"\u001b[39m\u001b[38;5;124mencoding_errors\u001b[39m\u001b[38;5;124m\"\u001b[39m, \u001b[38;5;124m\"\u001b[39m\u001b[38;5;124mstrict\u001b[39m\u001b[38;5;124m\"\u001b[39m),\n\u001b[0;32m   1713\u001b[0m     storage_options\u001b[38;5;241m=\u001b[39m\u001b[38;5;28mself\u001b[39m\u001b[38;5;241m.\u001b[39moptions\u001b[38;5;241m.\u001b[39mget(\u001b[38;5;124m\"\u001b[39m\u001b[38;5;124mstorage_options\u001b[39m\u001b[38;5;124m\"\u001b[39m, \u001b[38;5;28;01mNone\u001b[39;00m),\n\u001b[0;32m   1714\u001b[0m )\n\u001b[0;32m   1715\u001b[0m \u001b[38;5;28;01massert\u001b[39;00m \u001b[38;5;28mself\u001b[39m\u001b[38;5;241m.\u001b[39mhandles \u001b[38;5;129;01mis\u001b[39;00m \u001b[38;5;129;01mnot\u001b[39;00m \u001b[38;5;28;01mNone\u001b[39;00m\n\u001b[0;32m   1716\u001b[0m f \u001b[38;5;241m=\u001b[39m \u001b[38;5;28mself\u001b[39m\u001b[38;5;241m.\u001b[39mhandles\u001b[38;5;241m.\u001b[39mhandle\n",
      "File \u001b[1;32mD:\\Study_app\\Anaconda\\Lib\\site-packages\\pandas\\io\\common.py:863\u001b[0m, in \u001b[0;36mget_handle\u001b[1;34m(path_or_buf, mode, encoding, compression, memory_map, is_text, errors, storage_options)\u001b[0m\n\u001b[0;32m    858\u001b[0m \u001b[38;5;28;01melif\u001b[39;00m \u001b[38;5;28misinstance\u001b[39m(handle, \u001b[38;5;28mstr\u001b[39m):\n\u001b[0;32m    859\u001b[0m     \u001b[38;5;66;03m# Check whether the filename is to be opened in binary mode.\u001b[39;00m\n\u001b[0;32m    860\u001b[0m     \u001b[38;5;66;03m# Binary mode does not support 'encoding' and 'newline'.\u001b[39;00m\n\u001b[0;32m    861\u001b[0m     \u001b[38;5;28;01mif\u001b[39;00m ioargs\u001b[38;5;241m.\u001b[39mencoding \u001b[38;5;129;01mand\u001b[39;00m \u001b[38;5;124m\"\u001b[39m\u001b[38;5;124mb\u001b[39m\u001b[38;5;124m\"\u001b[39m \u001b[38;5;129;01mnot\u001b[39;00m \u001b[38;5;129;01min\u001b[39;00m ioargs\u001b[38;5;241m.\u001b[39mmode:\n\u001b[0;32m    862\u001b[0m         \u001b[38;5;66;03m# Encoding\u001b[39;00m\n\u001b[1;32m--> 863\u001b[0m         handle \u001b[38;5;241m=\u001b[39m \u001b[38;5;28mopen\u001b[39m(\n\u001b[0;32m    864\u001b[0m             handle,\n\u001b[0;32m    865\u001b[0m             ioargs\u001b[38;5;241m.\u001b[39mmode,\n\u001b[0;32m    866\u001b[0m             encoding\u001b[38;5;241m=\u001b[39mioargs\u001b[38;5;241m.\u001b[39mencoding,\n\u001b[0;32m    867\u001b[0m             errors\u001b[38;5;241m=\u001b[39merrors,\n\u001b[0;32m    868\u001b[0m             newline\u001b[38;5;241m=\u001b[39m\u001b[38;5;124m\"\u001b[39m\u001b[38;5;124m\"\u001b[39m,\n\u001b[0;32m    869\u001b[0m         )\n\u001b[0;32m    870\u001b[0m     \u001b[38;5;28;01melse\u001b[39;00m:\n\u001b[0;32m    871\u001b[0m         \u001b[38;5;66;03m# Binary mode\u001b[39;00m\n\u001b[0;32m    872\u001b[0m         handle \u001b[38;5;241m=\u001b[39m \u001b[38;5;28mopen\u001b[39m(handle, ioargs\u001b[38;5;241m.\u001b[39mmode)\n",
      "\u001b[1;31mFileNotFoundError\u001b[0m: [Errno 2] No such file or directory: 'D:\\\\Study\\\\Data science\\\\kaggle\\\\president_heights.csv'"
     ]
    }
   ],
   "source": [
    "data = pd.read_csv('D:\\Study\\Data science\\kaggle\\president_heights.csv')\n",
    "data.head()"
   ]
  },
  {
   "cell_type": "code",
   "execution_count": null,
   "id": "b544f564-5048-4686-976b-4260962f5260",
   "metadata": {},
   "outputs": [],
   "source": [
    "data2 = pd.read_csv('D:\\Study\\Data science\\kaggle\\Seattle2014.csv')\n",
    "data2.head()"
   ]
  },
  {
   "cell_type": "code",
   "execution_count": null,
   "id": "31384cc0-9bff-475c-bdfc-cc1e1a8ebbc4",
   "metadata": {},
   "outputs": [],
   "source": [
    "rainfall = data2['PRCP']\n",
    "rainfall"
   ]
  },
  {
   "cell_type": "code",
   "execution_count": null,
   "id": "97b70928-9921-4f04-b5e7-8466943d1238",
   "metadata": {},
   "outputs": [],
   "source": [
    "inches = rainfall /254\n",
    "inches[:10]"
   ]
  },
  {
   "cell_type": "code",
   "execution_count": null,
   "id": "53edb186-c88e-4718-8951-1be73771e61e",
   "metadata": {},
   "outputs": [],
   "source": [
    "%matplotlib inline\n",
    "import matplotlib.pyplot as plt\n",
    "plt.hist(inches, bins=30)"
   ]
  },
  {
   "cell_type": "code",
   "execution_count": null,
   "id": "1587deb9-edfd-43b7-b816-b142ae56d9d4",
   "metadata": {},
   "outputs": [],
   "source": [
    "print(\"days without rain\", np.sum(inches == 0))\n",
    "print(\"days with rain\", np.sum(inches != 0 ))\n",
    "print(\"days with more than 0.5 inches rain\", np.sum(inches>0.5))\n",
    "rainy = inches "
   ]
  },
  {
   "cell_type": "code",
   "execution_count": null,
   "id": "9c9b79fb-1800-4e18-b266-d3abc45fad73",
   "metadata": {},
   "outputs": [],
   "source": [
    "data = pd.Series([0.25,0.5,0.75,1.0]) # implicit index\n",
    "data"
   ]
  },
  {
   "cell_type": "code",
   "execution_count": null,
   "id": "f2030545-e03c-45a9-9791-8d9fe7ce8167",
   "metadata": {},
   "outputs": [],
   "source": [
    "type(data)"
   ]
  },
  {
   "cell_type": "code",
   "execution_count": null,
   "id": "a68a1da0-de7c-4701-bf3e-9291427a177a",
   "metadata": {},
   "outputs": [],
   "source": [
    "data.values"
   ]
  },
  {
   "cell_type": "code",
   "execution_count": null,
   "id": "bd736e96-3ac4-48fd-a7a2-77c580c60dac",
   "metadata": {},
   "outputs": [],
   "source": [
    "data.index"
   ]
  },
  {
   "cell_type": "code",
   "execution_count": null,
   "id": "6b561bd4-3e27-46cd-a515-5e1ec55121c4",
   "metadata": {},
   "outputs": [],
   "source": [
    "data[2]"
   ]
  },
  {
   "cell_type": "code",
   "execution_count": null,
   "id": "33f87619-3d55-4924-8813-65085d733dc8",
   "metadata": {},
   "outputs": [],
   "source": [
    "data[1:3]"
   ]
  },
  {
   "cell_type": "code",
   "execution_count": null,
   "id": "36c11daf-4317-4fef-a1a4-ea3e129bc27a",
   "metadata": {},
   "outputs": [],
   "source": [
    "data = pd.Series([0.25,0.5,0.75,1.0], index=['a','b','c','d']) # explicit index\n",
    "data"
   ]
  },
  {
   "cell_type": "code",
   "execution_count": null,
   "id": "8cfcb0af-c368-42f7-9081-7541ba59ac4c",
   "metadata": {},
   "outputs": [],
   "source": [
    "popu_dict = {\n",
    "    'California': 30,\n",
    "    'Texas':26,\n",
    "    'New york': 20,\n",
    "    'Florida':19,\n",
    "    'Illululu':13\n",
    "}\n",
    "popu = pd.Series(popu_dict)\n",
    "popu"
   ]
  },
  {
   "cell_type": "code",
   "execution_count": null,
   "id": "f7fb997e-6343-4b18-9476-e4c68f68509f",
   "metadata": {},
   "outputs": [],
   "source": [
    "popu['Texas']"
   ]
  },
  {
   "cell_type": "code",
   "execution_count": null,
   "id": "020d74a2-eee8-4e41-ab75-db1ee2501354",
   "metadata": {},
   "outputs": [],
   "source": [
    "popu['Texas': 'Florida']"
   ]
  },
  {
   "cell_type": "code",
   "execution_count": null,
   "id": "66115cdd-e463-4017-b161-e2f412e0cfa0",
   "metadata": {},
   "outputs": [],
   "source": [
    "area_dict = {\n",
    "    'California': 423,\n",
    "    'Texas':695,\n",
    "    'New york': 141,\n",
    "    'Florida':170,\n",
    "    'Illululu':150\n",
    "}"
   ]
  },
  {
   "cell_type": "code",
   "execution_count": null,
   "id": "ee59c47f-eb31-4a78-a35e-a48e2e3a4dc4",
   "metadata": {},
   "outputs": [],
   "source": [
    "area= pd.Series(area_dict)\n",
    "area"
   ]
  },
  {
   "cell_type": "code",
   "execution_count": null,
   "id": "db81f98a-ff64-42da-8dab-e012c1818e95",
   "metadata": {},
   "outputs": [],
   "source": [
    "status = pd.DataFrame({\n",
    "    'popu':popu,\n",
    "    'area': area})\n",
    "status"
   ]
  },
  {
   "cell_type": "code",
   "execution_count": null,
   "id": "b7b53f70-a2aa-4deb-8c5b-e1b942d03c5b",
   "metadata": {},
   "outputs": [],
   "source": [
    "type(status)"
   ]
  },
  {
   "cell_type": "code",
   "execution_count": null,
   "id": "332cf38d-f808-42dc-a910-a39e170d240e",
   "metadata": {},
   "outputs": [],
   "source": [
    "status.index"
   ]
  },
  {
   "cell_type": "code",
   "execution_count": null,
   "id": "bea0bc02-b48a-4e4d-98b3-f6c56572d3df",
   "metadata": {},
   "outputs": [],
   "source": [
    "status.columns"
   ]
  },
  {
   "cell_type": "code",
   "execution_count": null,
   "id": "8ba9fd57-575a-49d9-a492-ca425c112aab",
   "metadata": {},
   "outputs": [],
   "source": [
    "status['popu']"
   ]
  },
  {
   "cell_type": "code",
   "execution_count": null,
   "id": "fd42420a-fded-4e7a-ab04-e6574287d3cf",
   "metadata": {},
   "outputs": [],
   "source": [
    "pd.DataFrame(popu, columns = ['popu'])"
   ]
  },
  {
   "cell_type": "code",
   "execution_count": null,
   "id": "c8510b83-a5c6-4de4-a85d-60f06472d534",
   "metadata": {},
   "outputs": [],
   "source": [
    "data = [{'a':i, 'b':2*i} for i in range(6)]\n",
    "print(data)"
   ]
  },
  {
   "cell_type": "code",
   "execution_count": null,
   "id": "f5bcb375-3994-4393-8e56-7a597a1e3055",
   "metadata": {},
   "outputs": [],
   "source": [
    "pd.DataFrame(data)"
   ]
  },
  {
   "cell_type": "code",
   "execution_count": null,
   "id": "325ef28e-7627-487a-9a13-1d3996af1e23",
   "metadata": {},
   "outputs": [],
   "source": [
    "pd.DataFrame([{'a': 2,'b':5}, {'b':7, 'c':1}])"
   ]
  },
  {
   "cell_type": "code",
   "execution_count": null,
   "id": "242d21a0-d2f2-4c28-8385-700aa9134901",
   "metadata": {},
   "outputs": [],
   "source": [
    "pd.DataFrame(np.random.rand(3,2),\n",
    "             columns = ['foo', 'bar'],\n",
    "             index = ['a', 'b', 'c'])"
   ]
  },
  {
   "cell_type": "code",
   "execution_count": null,
   "id": "a2be480d-b68e-43cb-8761-8743c427b4ae",
   "metadata": {},
   "outputs": [],
   "source": [
    "test = np.zeros(3, dtype=[('A', 'i8'), ('B', 'f8')])\n",
    "print(test)"
   ]
  },
  {
   "cell_type": "code",
   "execution_count": null,
   "id": "cbe63f1e-5361-40a6-a6e6-3368370ee37b",
   "metadata": {},
   "outputs": [],
   "source": [
    "ind = pd.Index([1,5,3,9,7])\n",
    "ind"
   ]
  },
  {
   "cell_type": "code",
   "execution_count": null,
   "id": "bb002314-251f-4919-8374-42f5051406aa",
   "metadata": {},
   "outputs": [],
   "source": [
    "data =pd.Series(['x','y','z'], index= [1,2,3])\n",
    "data"
   ]
  },
  {
   "cell_type": "code",
   "execution_count": null,
   "id": "e3177b9d-fee8-4f9c-9ae1-8ce1d13cda38",
   "metadata": {},
   "outputs": [],
   "source": [
    "'d' in data"
   ]
  },
  {
   "cell_type": "code",
   "execution_count": null,
   "id": "4f445d1d-4fc6-476e-ac2d-3cfc6b0e01dd",
   "metadata": {},
   "outputs": [],
   "source": [
    "data.keys()"
   ]
  },
  {
   "cell_type": "code",
   "execution_count": null,
   "id": "3dbd1b37-f380-4f8f-89ba-b54bdc3b0230",
   "metadata": {},
   "outputs": [],
   "source": [
    "list(data.items())"
   ]
  },
  {
   "cell_type": "code",
   "execution_count": null,
   "id": "6729c6ee-eedc-4d6e-9112-02e4a0b97cd5",
   "metadata": {},
   "outputs": [],
   "source": [
    "data[1]"
   ]
  },
  {
   "cell_type": "code",
   "execution_count": null,
   "id": "8f58881a-f354-42da-86e4-12e51dbfe03a",
   "metadata": {},
   "outputs": [],
   "source": [
    "data.loc[1]"
   ]
  },
  {
   "cell_type": "code",
   "execution_count": null,
   "id": "410b3de0-f95d-478b-93ee-06805f1dade2",
   "metadata": {},
   "outputs": [],
   "source": [
    "data.iloc[1]"
   ]
  },
  {
   "cell_type": "code",
   "execution_count": null,
   "id": "fbf6e0b0-d00a-4365-804c-54f496e0ff45",
   "metadata": {},
   "outputs": [],
   "source": [
    "status"
   ]
  },
  {
   "cell_type": "code",
   "execution_count": null,
   "id": "105bd39c-726f-4c34-81b6-c32f147ade7b",
   "metadata": {},
   "outputs": [],
   "source": [
    "status['density'] = status['popu'] / status['area']\n",
    "status"
   ]
  },
  {
   "cell_type": "code",
   "execution_count": null,
   "id": "3b198483-da09-4683-b91c-c84a0382dfde",
   "metadata": {},
   "outputs": [],
   "source": [
    "status.values"
   ]
  },
  {
   "cell_type": "code",
   "execution_count": null,
   "id": "ed8d0aea-fbd3-4ffe-aa4a-f718605d9e73",
   "metadata": {},
   "outputs": [],
   "source": [
    "status.T # transpose column to rows"
   ]
  },
  {
   "cell_type": "code",
   "execution_count": null,
   "id": "8f9f1f9f-688b-4d9a-b03f-9bb4329351d9",
   "metadata": {},
   "outputs": [],
   "source": [
    "status.iloc[:3,:2]"
   ]
  },
  {
   "cell_type": "code",
   "execution_count": null,
   "id": "5a1b67ad-47d8-4eca-bdcc-c39669657cda",
   "metadata": {},
   "outputs": [],
   "source": [
    "status.loc[status.density > 0.1, ['popu', 'density']]"
   ]
  },
  {
   "cell_type": "code",
   "execution_count": null,
   "id": "3a621684-c072-474b-a673-731abe78e299",
   "metadata": {},
   "outputs": [],
   "source": [
    "status.area"
   ]
  },
  {
   "cell_type": "code",
   "execution_count": null,
   "id": "39b6dcdb-dc9d-45ad-9fa0-dd7bb28e2e8d",
   "metadata": {},
   "outputs": [],
   "source": [
    "status[status.area >150]"
   ]
  },
  {
   "cell_type": "code",
   "execution_count": null,
   "id": "734e3073-dfd6-42f2-8a24-776e288486c9",
   "metadata": {},
   "outputs": [],
   "source": [
    "rng = np.random.RandomState(42)\n",
    "ser = pd.Series(rng.randint(0,10,4))\n",
    "ser"
   ]
  },
  {
   "cell_type": "code",
   "execution_count": null,
   "id": "3e966034-edad-4b00-9fb6-a8644558f412",
   "metadata": {},
   "outputs": [],
   "source": [
    "import pandas as pd\n",
    "import numpy as np\n",
    "data = pd.Series([1, np.nan, 'helo', None])\n",
    "data"
   ]
  },
  {
   "cell_type": "code",
   "execution_count": null,
   "id": "57aba77f-0f8e-49d7-9734-82598b9ea958",
   "metadata": {},
   "outputs": [],
   "source": [
    "data.isnull() # returns if value is null or not"
   ]
  },
  {
   "cell_type": "code",
   "execution_count": null,
   "id": "0f4058d5-a61a-400d-86df-03833d24044d",
   "metadata": {},
   "outputs": [],
   "source": [
    "data[data.notnull()] #filters null values(not used )"
   ]
  },
  {
   "cell_type": "code",
   "execution_count": null,
   "id": "ca38bc94-e383-4472-ac81-ac15ead9ef63",
   "metadata": {},
   "outputs": [],
   "source": [
    "data.dropna()# same as above but used"
   ]
  },
  {
   "cell_type": "code",
   "execution_count": null,
   "id": "039c53f6-67eb-4cce-b015-a61381ad4a88",
   "metadata": {},
   "outputs": [],
   "source": [
    "df = pd.DataFrame(\n",
    "    [\n",
    "        [1, np.nan, 2],\n",
    "        [2,3,5],\n",
    "        [np.nan, 4, 6]\n",
    "    ]\n",
    ")\n",
    "\n",
    "df"
   ]
  },
  {
   "cell_type": "code",
   "execution_count": null,
   "id": "c4a4d80b-a30c-42dd-8b5f-c64f033a4643",
   "metadata": {},
   "outputs": [],
   "source": [
    "df.dropna()"
   ]
  },
  {
   "cell_type": "code",
   "execution_count": null,
   "id": "b3b3b5de-51a0-472a-9dea-fe22abed8700",
   "metadata": {},
   "outputs": [],
   "source": [
    "df.dropna(axis=1)"
   ]
  },
  {
   "cell_type": "code",
   "execution_count": null,
   "id": "5d66a42c-714d-455c-b59e-70d67c65f67e",
   "metadata": {},
   "outputs": [],
   "source": [
    "df.dropna(thresh=3)"
   ]
  },
  {
   "cell_type": "code",
   "execution_count": null,
   "id": "aacd3308-4953-4e6b-8119-e338269eed5b",
   "metadata": {},
   "outputs": [],
   "source": [
    "data = pd.Series([\n",
    "    1, np.nan, 2, None, 3\n",
    "], index = list('abcde'))\n",
    "data"
   ]
  },
  {
   "cell_type": "code",
   "execution_count": null,
   "id": "d5d9ca5e-ff94-41b3-9b6b-81582319bbf1",
   "metadata": {},
   "outputs": [],
   "source": [
    "data.fillna(0)"
   ]
  },
  {
   "cell_type": "code",
   "execution_count": null,
   "id": "0103d9ee-2564-4922-ad9d-5659877cb08b",
   "metadata": {},
   "outputs": [],
   "source": [
    "data.fillna(method='ffill')"
   ]
  },
  {
   "cell_type": "code",
   "execution_count": null,
   "id": "3a885be2-f3f2-4246-9a8c-68a8ae422d40",
   "metadata": {},
   "outputs": [],
   "source": [
    "data.ffill()"
   ]
  },
  {
   "cell_type": "code",
   "execution_count": null,
   "id": "1ee7c82e-b5ab-429a-9172-fb07c13733ac",
   "metadata": {},
   "outputs": [],
   "source": [
    "data.bfill()"
   ]
  },
  {
   "cell_type": "code",
   "execution_count": null,
   "id": "a3581c82-648b-4c58-8ef0-ec250f15ddd6",
   "metadata": {},
   "outputs": [],
   "source": [
    "df1 = pd.DataFrame({'employee':['hari', 'john', 'lisa'],\n",
    "                   'group':['Accounting', 'Arts', 'Engineer']})\n",
    "df2 = pd.DataFrame({\n",
    "    'employee':['hari', 'john', 'lisa'],\n",
    "    'hire' : [2004,2001,2011]\n",
    "})\n",
    "\n",
    "print(df1) \n",
    "print('-'*20)\n",
    "print(df2)"
   ]
  },
  {
   "cell_type": "code",
   "execution_count": null,
   "id": "b45bf82f-34f7-46e0-bb0b-d230eb7f946a",
   "metadata": {},
   "outputs": [],
   "source": [
    "df3 = pd.merge(df1,df2)\n",
    "df3"
   ]
  },
  {
   "cell_type": "code",
   "execution_count": null,
   "id": "2837581b-6e99-419a-8bee-fb356a41e7a4",
   "metadata": {},
   "outputs": [],
   "source": [
    "df4 = pd.DataFrame({\n",
    "    'group':['Accounting', 'Arts', 'Engineer'],\n",
    "    'supervisor':['Carly', 'moomo', 'chicken']\n",
    "})\n",
    "print(df3); print('-'*20); print(df4)"
   ]
  },
  {
   "cell_type": "code",
   "execution_count": null,
   "id": "f114bf78-56c0-4dee-a296-96b0561cb462",
   "metadata": {},
   "outputs": [],
   "source": [
    "pd.merge(df3, df4)"
   ]
  },
  {
   "cell_type": "code",
   "execution_count": null,
   "id": "85f952c4-9020-4fb8-82a3-fb38a0b03ad7",
   "metadata": {},
   "outputs": [],
   "source": [
    "df5 = pd.DataFrame({\n",
    "    'group':['Accounting', 'Arts', 'Engineer','Engineer','Engineer'],\n",
    "    'skills': ['math', 'spreadsheets', 'coding', 'linux','spreadsheets']\n",
    "})\n",
    "print(df4); print('-'*20); print(df5)"
   ]
  },
  {
   "cell_type": "code",
   "execution_count": null,
   "id": "cd500860-d3c4-4f82-9dd8-e9ae4b3243e2",
   "metadata": {},
   "outputs": [],
   "source": [
    "pd.merge(df1,df5)"
   ]
  },
  {
   "cell_type": "code",
   "execution_count": null,
   "id": "4057a294-ca72-41ec-a87f-931580706083",
   "metadata": {},
   "outputs": [],
   "source": [
    "print(df1); print('-'*30); print(df2)\n",
    "\n",
    "pd.merge(df1, df2, on='employee')"
   ]
  },
  {
   "cell_type": "code",
   "execution_count": null,
   "id": "424c515f-0126-4d14-93c9-469520b1fed8",
   "metadata": {},
   "outputs": [],
   "source": [
    "df3 = pd.DataFrame({\n",
    "    'name': ['hari', 'john', 'lisa'],\n",
    "    'salary': [50000, 80000, 70000]\n",
    "})\n",
    "\n",
    "print(df1); print('-'*30); print(df3)"
   ]
  },
  {
   "cell_type": "code",
   "execution_count": null,
   "id": "a6c0bf1a-4914-431f-8bd3-6b70a824a833",
   "metadata": {},
   "outputs": [],
   "source": [
    "pd.merge(df1, df3,left_on='employee', right_on='name')"
   ]
  },
  {
   "cell_type": "code",
   "execution_count": null,
   "id": "7c4c2b33-9a20-4668-9325-36dc5c761a6d",
   "metadata": {},
   "outputs": [],
   "source": [
    " df6 = pd.DataFrame({\n",
    "     'name': ['Ram', 'Hari', 'Sita'],\n",
    "     'food': ['fish', 'beans', 'bread']\n",
    " }, columns = ['name', 'food'])\n",
    "\n",
    "df7 = pd.DataFrame({\n",
    "    'name': ['Sita', 'Anjali'],\n",
    "    'drink': ['wine', 'beer']\n",
    "}, columns = ['name', 'drink'])\n",
    "\n",
    "print(df6); print('-'*30); print(df7)"
   ]
  },
  {
   "cell_type": "code",
   "execution_count": null,
   "id": "d6d8985b-d1ce-40eb-ab92-932c98830eee",
   "metadata": {},
   "outputs": [],
   "source": [
    "pd.merge(df6,df7)"
   ]
  },
  {
   "cell_type": "code",
   "execution_count": null,
   "id": "cf5ab1ef-acab-443b-95b8-c6879852a6e4",
   "metadata": {},
   "outputs": [],
   "source": [
    "pd.merge(df6,df7, how='inner')"
   ]
  },
  {
   "cell_type": "code",
   "execution_count": null,
   "id": "1868567c-0c2a-42ba-bf67-227593ed745d",
   "metadata": {},
   "outputs": [],
   "source": [
    "pd.merge(df6,df7, how='outer')"
   ]
  },
  {
   "cell_type": "code",
   "execution_count": null,
   "id": "ff66dc57-0c08-425f-bb46-016371d67705",
   "metadata": {},
   "outputs": [],
   "source": [
    "pd.merge(df6, df7, how=\"left\")"
   ]
  },
  {
   "cell_type": "code",
   "execution_count": null,
   "id": "957b4f2c-0598-429e-bb46-ac154361af69",
   "metadata": {},
   "outputs": [],
   "source": [
    "pd.merge(df6, df7, how=\"right\")"
   ]
  },
  {
   "cell_type": "code",
   "execution_count": null,
   "id": "14732fb7-4de2-4746-ba49-c5f707aaab42",
   "metadata": {},
   "outputs": [],
   "source": [
    "df8 = pd.DataFrame({\n",
    "    'name':['momo', 'pizza', 'pasta', 'salad'],\n",
    "    'rank': [1,2,3,4]\n",
    "})\n",
    "\n",
    "df9= pd.DataFrame({\n",
    "    'name': ['momo', 'pizza', 'pasta', 'salad'],\n",
    "    'rank':[4,2,3,1]\n",
    "})\n",
    "\n",
    "print(df8); print('-'*30); print(df9)"
   ]
  },
  {
   "cell_type": "code",
   "execution_count": null,
   "id": "1341f8f5-bbf0-4cc6-92bc-d54d0ba30ec3",
   "metadata": {},
   "outputs": [],
   "source": [
    "pd.merge(df8, df9, on='name')"
   ]
  },
  {
   "cell_type": "code",
   "execution_count": null,
   "id": "75972138-0c5b-4215-90f3-97bab5be01f0",
   "metadata": {},
   "outputs": [],
   "source": [
    "pd.merge(df8, df9, on='rank')"
   ]
  },
  {
   "cell_type": "code",
   "execution_count": null,
   "id": "3f126cb4-9c5d-458b-af6a-814421482c04",
   "metadata": {},
   "outputs": [],
   "source": [
    "pd.merge(df8, df9, on='name', suffixes=['_Left', '_Right'])"
   ]
  },
  {
   "cell_type": "code",
   "execution_count": null,
   "id": "1beec744-0e10-4acb-882a-0f40f12cf10b",
   "metadata": {},
   "outputs": [],
   "source": [
    "!curl -O https://raw.githubusercontent.com/jakevdp/data-USstates/master/state-areas.csv"
   ]
  },
  {
   "cell_type": "code",
   "execution_count": null,
   "id": "9096b635-d7c5-4a78-98ad-8368155ffed7",
   "metadata": {},
   "outputs": [],
   "source": [
    "!curl -O https://raw.githubusercontent.com/jakevdp/data-USstates/master/state-population.csv"
   ]
  },
  {
   "cell_type": "code",
   "execution_count": null,
   "id": "f770f255-ede3-47a2-af80-c3980b82bb9d",
   "metadata": {},
   "outputs": [],
   "source": [
    "!curl -O https://raw.githubusercontent.com/jakevdp/data-USstates/master/state-abbrevs.csv"
   ]
  },
  {
   "cell_type": "code",
   "execution_count": null,
   "id": "4ec3ed63-31d2-4f6a-aa8d-406d33a7faf4",
   "metadata": {},
   "outputs": [],
   "source": [
    "pop = pd.read_csv(r\"C:\\Users\\ThinkBook\\state-abbrevs.csv\")\n",
    "area = pd.read_csv(r'C:\\Users\\ThinkBook\\state-areas.csv')\n",
    "abbrev = pd.read_csv(r\"C:\\Users\\ThinkBook\\state-abbrevs.csv\")"
   ]
  },
  {
   "cell_type": "code",
   "execution_count": null,
   "id": "84dd9b05-6e54-4fa9-9422-ffcdd208e359",
   "metadata": {},
   "outputs": [],
   "source": [
    "!curl"
   ]
  },
  {
   "cell_type": "code",
   "execution_count": null,
   "id": "116be2eb-9078-4616-a459-94660a6e5d79",
   "metadata": {},
   "outputs": [],
   "source": [
    "!dir"
   ]
  },
  {
   "cell_type": "code",
   "execution_count": 3,
   "id": "e35d189b-2842-408d-bada-c1b0283af80c",
   "metadata": {},
   "outputs": [
    {
     "data": {
      "text/html": [
       "<div>\n",
       "<style scoped>\n",
       "    .dataframe tbody tr th:only-of-type {\n",
       "        vertical-align: middle;\n",
       "    }\n",
       "\n",
       "    .dataframe tbody tr th {\n",
       "        vertical-align: top;\n",
       "    }\n",
       "\n",
       "    .dataframe thead th {\n",
       "        text-align: right;\n",
       "    }\n",
       "</style>\n",
       "<table border=\"1\" class=\"dataframe\">\n",
       "  <thead>\n",
       "    <tr style=\"text-align: right;\">\n",
       "      <th></th>\n",
       "      <th>key</th>\n",
       "      <th>data</th>\n",
       "    </tr>\n",
       "  </thead>\n",
       "  <tbody>\n",
       "    <tr>\n",
       "      <th>0</th>\n",
       "      <td>A</td>\n",
       "      <td>0</td>\n",
       "    </tr>\n",
       "    <tr>\n",
       "      <th>1</th>\n",
       "      <td>B</td>\n",
       "      <td>1</td>\n",
       "    </tr>\n",
       "    <tr>\n",
       "      <th>2</th>\n",
       "      <td>C</td>\n",
       "      <td>2</td>\n",
       "    </tr>\n",
       "    <tr>\n",
       "      <th>3</th>\n",
       "      <td>A</td>\n",
       "      <td>3</td>\n",
       "    </tr>\n",
       "    <tr>\n",
       "      <th>4</th>\n",
       "      <td>B</td>\n",
       "      <td>4</td>\n",
       "    </tr>\n",
       "    <tr>\n",
       "      <th>5</th>\n",
       "      <td>C</td>\n",
       "      <td>5</td>\n",
       "    </tr>\n",
       "  </tbody>\n",
       "</table>\n",
       "</div>"
      ],
      "text/plain": [
       "  key  data\n",
       "0   A     0\n",
       "1   B     1\n",
       "2   C     2\n",
       "3   A     3\n",
       "4   B     4\n",
       "5   C     5"
      ]
     },
     "execution_count": 3,
     "metadata": {},
     "output_type": "execute_result"
    }
   ],
   "source": [
    "df = pd.DataFrame({\n",
    "    'key': ['A','B','C','A','B','C'],\n",
    "    'data': range(6)\n",
    "}, columns = ['key', 'data'])\n",
    "df"
   ]
  },
  {
   "cell_type": "code",
   "execution_count": 5,
   "id": "76081ecb-2b74-4f49-b66e-b118e050f679",
   "metadata": {},
   "outputs": [
    {
     "data": {
      "text/plain": [
       "pandas.core.groupby.generic.DataFrameGroupBy"
      ]
     },
     "execution_count": 5,
     "metadata": {},
     "output_type": "execute_result"
    }
   ],
   "source": [
    "df_group_by = df.groupby('key')\n",
    "type(df_group_by)"
   ]
  },
  {
   "cell_type": "code",
   "execution_count": null,
   "id": "4e834f4c-6c49-498c-b805-029d010666d2",
   "metadata": {},
   "outputs": [],
   "source": [
    "#.describe statistical description\n"
   ]
  }
 ],
 "metadata": {
  "kernelspec": {
   "display_name": "Python 3 (ipykernel)",
   "language": "python",
   "name": "python3"
  },
  "language_info": {
   "codemirror_mode": {
    "name": "ipython",
    "version": 3
   },
   "file_extension": ".py",
   "mimetype": "text/x-python",
   "name": "python",
   "nbconvert_exporter": "python",
   "pygments_lexer": "ipython3",
   "version": "3.11.7"
  }
 },
 "nbformat": 4,
 "nbformat_minor": 5
}
